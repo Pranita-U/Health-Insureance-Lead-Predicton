{
 "cells": [
  {
   "cell_type": "markdown",
   "metadata": {},
   "source": [
    "Health Insurance Lead Prediction \n",
    "\n",
    "Ploblem Statement : Your Client FinMan is a financial services company that provides various financial services like loan, investment funds, insurance etc. to its customers. FinMan wishes to cross-sell health insurance to the existing customers who may or may not hold insurance policies with the company. The company recommend health insurance to it's customers based on their profile once these customers land on the website. Customers might browse the recommended health insurance policy and consequently fill up a form to apply. When these customers fill-up the form, their Response towards the policy is considered positive and they are classified as a lead.\n",
    "\n",
    "Once these leads are acquired, the sales advisors approach them to convert and thus the company can sell proposed health insurance to these leads in a more efficient manner.\n",
    "\n",
    "Now the company needs your help in building a model to predict whether the person will be interested in their proposed Health plan/policy given the information about:\n",
    "\n",
    "1) Demographics (city, age, region etc.)\n",
    "2) Information regarding holding policies of the customer\n",
    "3) Recommended Policy Information"
   ]
  },
  {
   "cell_type": "markdown",
   "metadata": {},
   "source": [
    "Importing Libraries"
   ]
  },
  {
   "cell_type": "code",
   "execution_count": 292,
   "metadata": {},
   "outputs": [],
   "source": [
    "import matplotlib.pyplot as plt\n",
    "import pandas as pd\n",
    "import numpy as np\n",
    "import seaborn as sns\n",
    "\n",
    "from sklearn.model_selection import train_test_split\n",
    "from sklearn.metrics import roc_curve\n",
    "from sklearn.metrics import roc_auc_score\n",
    "from sklearn.linear_model import LogisticRegression\n",
    "\n",
    "import warnings\n",
    "warnings.filterwarnings('always')\n",
    "warnings.filterwarnings('ignore')"
   ]
  },
  {
   "cell_type": "markdown",
   "metadata": {},
   "source": [
    "Data Inspection"
   ]
  },
  {
   "cell_type": "code",
   "execution_count": 293,
   "metadata": {},
   "outputs": [],
   "source": [
    "train=pd.read_csv(\"train_Df64byy.csv\")\n",
    "test=pd.read_csv(\"test_YCcRUnU.csv\")"
   ]
  },
  {
   "cell_type": "code",
   "execution_count": 294,
   "metadata": {},
   "outputs": [
    {
     "data": {
      "text/plain": [
       "((50882, 14), (21805, 13))"
      ]
     },
     "execution_count": 294,
     "metadata": {},
     "output_type": "execute_result"
    }
   ],
   "source": [
    "train.shape,test.shape"
   ]
  },
  {
   "cell_type": "code",
   "execution_count": 295,
   "metadata": {},
   "outputs": [
    {
     "name": "stdout",
     "output_type": "stream",
     "text": [
      "<class 'pandas.core.frame.DataFrame'>\n",
      "RangeIndex: 50882 entries, 0 to 50881\n",
      "Data columns (total 14 columns):\n",
      "ID                         50882 non-null int64\n",
      "City_Code                  50882 non-null object\n",
      "Region_Code                50882 non-null int64\n",
      "Accomodation_Type          50882 non-null object\n",
      "Reco_Insurance_Type        50882 non-null object\n",
      "Upper_Age                  50882 non-null int64\n",
      "Lower_Age                  50882 non-null int64\n",
      "Is_Spouse                  50882 non-null object\n",
      "Health Indicator           39191 non-null object\n",
      "Holding_Policy_Duration    30631 non-null object\n",
      "Holding_Policy_Type        30631 non-null float64\n",
      "Reco_Policy_Cat            50882 non-null int64\n",
      "Reco_Policy_Premium        50882 non-null float64\n",
      "Response                   50882 non-null int64\n",
      "dtypes: float64(2), int64(6), object(6)\n",
      "memory usage: 5.4+ MB\n"
     ]
    }
   ],
   "source": [
    "train.info()"
   ]
  },
  {
   "cell_type": "code",
   "execution_count": 296,
   "metadata": {},
   "outputs": [
    {
     "name": "stdout",
     "output_type": "stream",
     "text": [
      "<class 'pandas.core.frame.DataFrame'>\n",
      "RangeIndex: 21805 entries, 0 to 21804\n",
      "Data columns (total 13 columns):\n",
      "ID                         21805 non-null int64\n",
      "City_Code                  21805 non-null object\n",
      "Region_Code                21805 non-null int64\n",
      "Accomodation_Type          21805 non-null object\n",
      "Reco_Insurance_Type        21805 non-null object\n",
      "Upper_Age                  21805 non-null int64\n",
      "Lower_Age                  21805 non-null int64\n",
      "Is_Spouse                  21805 non-null object\n",
      "Health Indicator           16778 non-null object\n",
      "Holding_Policy_Duration    13202 non-null object\n",
      "Holding_Policy_Type        13202 non-null float64\n",
      "Reco_Policy_Cat            21805 non-null int64\n",
      "Reco_Policy_Premium        21805 non-null float64\n",
      "dtypes: float64(2), int64(5), object(6)\n",
      "memory usage: 2.2+ MB\n"
     ]
    }
   ],
   "source": [
    "test.info()"
   ]
  },
  {
   "cell_type": "code",
   "execution_count": 297,
   "metadata": {},
   "outputs": [
    {
     "data": {
      "text/plain": [
       "ID                          0.000000\n",
       "City_Code                   0.000000\n",
       "Region_Code                 0.000000\n",
       "Accomodation_Type           0.000000\n",
       "Reco_Insurance_Type         0.000000\n",
       "Upper_Age                   0.000000\n",
       "Lower_Age                   0.000000\n",
       "Is_Spouse                   0.000000\n",
       "Health Indicator           22.976691\n",
       "Holding_Policy_Duration    39.799929\n",
       "Holding_Policy_Type        39.799929\n",
       "Reco_Policy_Cat             0.000000\n",
       "Reco_Policy_Premium         0.000000\n",
       "Response                    0.000000\n",
       "dtype: float64"
      ]
     },
     "execution_count": 297,
     "metadata": {},
     "output_type": "execute_result"
    }
   ],
   "source": [
    "#identifying missing values\n",
    "train.isnull().sum()/train.shape[0] * 100"
   ]
  },
  {
   "cell_type": "code",
   "execution_count": 298,
   "metadata": {},
   "outputs": [
    {
     "data": {
      "text/plain": [
       "ID                          0.000000\n",
       "City_Code                   0.000000\n",
       "Region_Code                 0.000000\n",
       "Accomodation_Type           0.000000\n",
       "Reco_Insurance_Type         0.000000\n",
       "Upper_Age                   0.000000\n",
       "Lower_Age                   0.000000\n",
       "Is_Spouse                   0.000000\n",
       "Health Indicator           23.054345\n",
       "Holding_Policy_Duration    39.454254\n",
       "Holding_Policy_Type        39.454254\n",
       "Reco_Policy_Cat             0.000000\n",
       "Reco_Policy_Premium         0.000000\n",
       "dtype: float64"
      ]
     },
     "execution_count": 298,
     "metadata": {},
     "output_type": "execute_result"
    }
   ],
   "source": [
    "test.isnull().sum()/test.shape[0] * 100"
   ]
  },
  {
   "cell_type": "code",
   "execution_count": 299,
   "metadata": {},
   "outputs": [
    {
     "data": {
      "text/plain": [
       "ID                             0\n",
       "City_Code                      0\n",
       "Region_Code                    0\n",
       "Accomodation_Type              0\n",
       "Reco_Insurance_Type            0\n",
       "Upper_Age                      0\n",
       "Lower_Age                      0\n",
       "Is_Spouse                      0\n",
       "Health Indicator           11691\n",
       "Holding_Policy_Duration    20251\n",
       "Holding_Policy_Type        20251\n",
       "Reco_Policy_Cat                0\n",
       "Reco_Policy_Premium            0\n",
       "Response                       0\n",
       "dtype: int64"
      ]
     },
     "execution_count": 299,
     "metadata": {},
     "output_type": "execute_result"
    }
   ],
   "source": [
    "train.isnull().sum()"
   ]
  },
  {
   "cell_type": "code",
   "execution_count": 300,
   "metadata": {},
   "outputs": [
    {
     "data": {
      "text/plain": [
       "ID                            0\n",
       "City_Code                     0\n",
       "Region_Code                   0\n",
       "Accomodation_Type             0\n",
       "Reco_Insurance_Type           0\n",
       "Upper_Age                     0\n",
       "Lower_Age                     0\n",
       "Is_Spouse                     0\n",
       "Health Indicator           5027\n",
       "Holding_Policy_Duration    8603\n",
       "Holding_Policy_Type        8603\n",
       "Reco_Policy_Cat               0\n",
       "Reco_Policy_Premium           0\n",
       "dtype: int64"
      ]
     },
     "execution_count": 300,
     "metadata": {},
     "output_type": "execute_result"
    }
   ],
   "source": [
    "test.isnull().sum()"
   ]
  },
  {
   "cell_type": "code",
   "execution_count": 301,
   "metadata": {},
   "outputs": [
    {
     "data": {
      "text/html": [
       "<div>\n",
       "<style scoped>\n",
       "    .dataframe tbody tr th:only-of-type {\n",
       "        vertical-align: middle;\n",
       "    }\n",
       "\n",
       "    .dataframe tbody tr th {\n",
       "        vertical-align: top;\n",
       "    }\n",
       "\n",
       "    .dataframe thead th {\n",
       "        text-align: right;\n",
       "    }\n",
       "</style>\n",
       "<table border=\"1\" class=\"dataframe\">\n",
       "  <thead>\n",
       "    <tr style=\"text-align: right;\">\n",
       "      <th></th>\n",
       "      <th>ID</th>\n",
       "      <th>Region_Code</th>\n",
       "      <th>Upper_Age</th>\n",
       "      <th>Lower_Age</th>\n",
       "      <th>Holding_Policy_Type</th>\n",
       "      <th>Reco_Policy_Cat</th>\n",
       "      <th>Reco_Policy_Premium</th>\n",
       "      <th>Response</th>\n",
       "    </tr>\n",
       "  </thead>\n",
       "  <tbody>\n",
       "    <tr>\n",
       "      <th>count</th>\n",
       "      <td>50882.000000</td>\n",
       "      <td>50882.000000</td>\n",
       "      <td>50882.000000</td>\n",
       "      <td>50882.000000</td>\n",
       "      <td>30631.000000</td>\n",
       "      <td>50882.000000</td>\n",
       "      <td>50882.000000</td>\n",
       "      <td>50882.000000</td>\n",
       "    </tr>\n",
       "    <tr>\n",
       "      <th>mean</th>\n",
       "      <td>25441.500000</td>\n",
       "      <td>1732.788707</td>\n",
       "      <td>44.856275</td>\n",
       "      <td>42.738866</td>\n",
       "      <td>2.439228</td>\n",
       "      <td>15.115188</td>\n",
       "      <td>14183.950069</td>\n",
       "      <td>0.239947</td>\n",
       "    </tr>\n",
       "    <tr>\n",
       "      <th>std</th>\n",
       "      <td>14688.512535</td>\n",
       "      <td>1424.081652</td>\n",
       "      <td>17.310271</td>\n",
       "      <td>17.319375</td>\n",
       "      <td>1.025923</td>\n",
       "      <td>6.340663</td>\n",
       "      <td>6590.074873</td>\n",
       "      <td>0.427055</td>\n",
       "    </tr>\n",
       "    <tr>\n",
       "      <th>min</th>\n",
       "      <td>1.000000</td>\n",
       "      <td>1.000000</td>\n",
       "      <td>18.000000</td>\n",
       "      <td>16.000000</td>\n",
       "      <td>1.000000</td>\n",
       "      <td>1.000000</td>\n",
       "      <td>2280.000000</td>\n",
       "      <td>0.000000</td>\n",
       "    </tr>\n",
       "    <tr>\n",
       "      <th>25%</th>\n",
       "      <td>12721.250000</td>\n",
       "      <td>523.000000</td>\n",
       "      <td>28.000000</td>\n",
       "      <td>27.000000</td>\n",
       "      <td>1.000000</td>\n",
       "      <td>12.000000</td>\n",
       "      <td>9248.000000</td>\n",
       "      <td>0.000000</td>\n",
       "    </tr>\n",
       "    <tr>\n",
       "      <th>50%</th>\n",
       "      <td>25441.500000</td>\n",
       "      <td>1391.000000</td>\n",
       "      <td>44.000000</td>\n",
       "      <td>40.000000</td>\n",
       "      <td>3.000000</td>\n",
       "      <td>17.000000</td>\n",
       "      <td>13178.000000</td>\n",
       "      <td>0.000000</td>\n",
       "    </tr>\n",
       "    <tr>\n",
       "      <th>75%</th>\n",
       "      <td>38161.750000</td>\n",
       "      <td>2667.000000</td>\n",
       "      <td>59.000000</td>\n",
       "      <td>57.000000</td>\n",
       "      <td>3.000000</td>\n",
       "      <td>20.000000</td>\n",
       "      <td>18096.000000</td>\n",
       "      <td>0.000000</td>\n",
       "    </tr>\n",
       "    <tr>\n",
       "      <th>max</th>\n",
       "      <td>50882.000000</td>\n",
       "      <td>6194.000000</td>\n",
       "      <td>75.000000</td>\n",
       "      <td>75.000000</td>\n",
       "      <td>4.000000</td>\n",
       "      <td>22.000000</td>\n",
       "      <td>43350.400000</td>\n",
       "      <td>1.000000</td>\n",
       "    </tr>\n",
       "  </tbody>\n",
       "</table>\n",
       "</div>"
      ],
      "text/plain": [
       "                 ID   Region_Code     Upper_Age     Lower_Age  \\\n",
       "count  50882.000000  50882.000000  50882.000000  50882.000000   \n",
       "mean   25441.500000   1732.788707     44.856275     42.738866   \n",
       "std    14688.512535   1424.081652     17.310271     17.319375   \n",
       "min        1.000000      1.000000     18.000000     16.000000   \n",
       "25%    12721.250000    523.000000     28.000000     27.000000   \n",
       "50%    25441.500000   1391.000000     44.000000     40.000000   \n",
       "75%    38161.750000   2667.000000     59.000000     57.000000   \n",
       "max    50882.000000   6194.000000     75.000000     75.000000   \n",
       "\n",
       "       Holding_Policy_Type  Reco_Policy_Cat  Reco_Policy_Premium      Response  \n",
       "count         30631.000000     50882.000000         50882.000000  50882.000000  \n",
       "mean              2.439228        15.115188         14183.950069      0.239947  \n",
       "std               1.025923         6.340663          6590.074873      0.427055  \n",
       "min               1.000000         1.000000          2280.000000      0.000000  \n",
       "25%               1.000000        12.000000          9248.000000      0.000000  \n",
       "50%               3.000000        17.000000         13178.000000      0.000000  \n",
       "75%               3.000000        20.000000         18096.000000      0.000000  \n",
       "max               4.000000        22.000000         43350.400000      1.000000  "
      ]
     },
     "execution_count": 301,
     "metadata": {},
     "output_type": "execute_result"
    }
   ],
   "source": [
    "train.describe()"
   ]
  },
  {
   "cell_type": "code",
   "execution_count": 302,
   "metadata": {},
   "outputs": [
    {
     "data": {
      "text/html": [
       "<div>\n",
       "<style scoped>\n",
       "    .dataframe tbody tr th:only-of-type {\n",
       "        vertical-align: middle;\n",
       "    }\n",
       "\n",
       "    .dataframe tbody tr th {\n",
       "        vertical-align: top;\n",
       "    }\n",
       "\n",
       "    .dataframe thead th {\n",
       "        text-align: right;\n",
       "    }\n",
       "</style>\n",
       "<table border=\"1\" class=\"dataframe\">\n",
       "  <thead>\n",
       "    <tr style=\"text-align: right;\">\n",
       "      <th></th>\n",
       "      <th>ID</th>\n",
       "      <th>Region_Code</th>\n",
       "      <th>Upper_Age</th>\n",
       "      <th>Lower_Age</th>\n",
       "      <th>Holding_Policy_Type</th>\n",
       "      <th>Reco_Policy_Cat</th>\n",
       "      <th>Reco_Policy_Premium</th>\n",
       "    </tr>\n",
       "  </thead>\n",
       "  <tbody>\n",
       "    <tr>\n",
       "      <th>count</th>\n",
       "      <td>21805.000000</td>\n",
       "      <td>21805.000000</td>\n",
       "      <td>21805.000000</td>\n",
       "      <td>21805.000000</td>\n",
       "      <td>13202.000000</td>\n",
       "      <td>21805.000000</td>\n",
       "      <td>21805.000000</td>\n",
       "    </tr>\n",
       "    <tr>\n",
       "      <th>mean</th>\n",
       "      <td>61785.000000</td>\n",
       "      <td>1748.737491</td>\n",
       "      <td>44.877734</td>\n",
       "      <td>42.748085</td>\n",
       "      <td>2.440085</td>\n",
       "      <td>15.138363</td>\n",
       "      <td>14220.306581</td>\n",
       "    </tr>\n",
       "    <tr>\n",
       "      <th>std</th>\n",
       "      <td>6294.705646</td>\n",
       "      <td>1438.358949</td>\n",
       "      <td>17.254898</td>\n",
       "      <td>17.269112</td>\n",
       "      <td>1.037627</td>\n",
       "      <td>6.302805</td>\n",
       "      <td>6497.996164</td>\n",
       "    </tr>\n",
       "    <tr>\n",
       "      <th>min</th>\n",
       "      <td>50883.000000</td>\n",
       "      <td>1.000000</td>\n",
       "      <td>18.000000</td>\n",
       "      <td>16.000000</td>\n",
       "      <td>1.000000</td>\n",
       "      <td>1.000000</td>\n",
       "      <td>2152.000000</td>\n",
       "    </tr>\n",
       "    <tr>\n",
       "      <th>25%</th>\n",
       "      <td>56334.000000</td>\n",
       "      <td>535.000000</td>\n",
       "      <td>28.000000</td>\n",
       "      <td>27.000000</td>\n",
       "      <td>1.000000</td>\n",
       "      <td>12.000000</td>\n",
       "      <td>9285.000000</td>\n",
       "    </tr>\n",
       "    <tr>\n",
       "      <th>50%</th>\n",
       "      <td>61785.000000</td>\n",
       "      <td>1392.000000</td>\n",
       "      <td>44.000000</td>\n",
       "      <td>41.000000</td>\n",
       "      <td>3.000000</td>\n",
       "      <td>17.000000</td>\n",
       "      <td>13244.000000</td>\n",
       "    </tr>\n",
       "    <tr>\n",
       "      <th>75%</th>\n",
       "      <td>67236.000000</td>\n",
       "      <td>2712.000000</td>\n",
       "      <td>59.000000</td>\n",
       "      <td>57.000000</td>\n",
       "      <td>3.000000</td>\n",
       "      <td>20.000000</td>\n",
       "      <td>18201.600000</td>\n",
       "    </tr>\n",
       "    <tr>\n",
       "      <th>max</th>\n",
       "      <td>72687.000000</td>\n",
       "      <td>6185.000000</td>\n",
       "      <td>75.000000</td>\n",
       "      <td>75.000000</td>\n",
       "      <td>4.000000</td>\n",
       "      <td>22.000000</td>\n",
       "      <td>43776.000000</td>\n",
       "    </tr>\n",
       "  </tbody>\n",
       "</table>\n",
       "</div>"
      ],
      "text/plain": [
       "                 ID   Region_Code     Upper_Age     Lower_Age  \\\n",
       "count  21805.000000  21805.000000  21805.000000  21805.000000   \n",
       "mean   61785.000000   1748.737491     44.877734     42.748085   \n",
       "std     6294.705646   1438.358949     17.254898     17.269112   \n",
       "min    50883.000000      1.000000     18.000000     16.000000   \n",
       "25%    56334.000000    535.000000     28.000000     27.000000   \n",
       "50%    61785.000000   1392.000000     44.000000     41.000000   \n",
       "75%    67236.000000   2712.000000     59.000000     57.000000   \n",
       "max    72687.000000   6185.000000     75.000000     75.000000   \n",
       "\n",
       "       Holding_Policy_Type  Reco_Policy_Cat  Reco_Policy_Premium  \n",
       "count         13202.000000     21805.000000         21805.000000  \n",
       "mean              2.440085        15.138363         14220.306581  \n",
       "std               1.037627         6.302805          6497.996164  \n",
       "min               1.000000         1.000000          2152.000000  \n",
       "25%               1.000000        12.000000          9285.000000  \n",
       "50%               3.000000        17.000000         13244.000000  \n",
       "75%               3.000000        20.000000         18201.600000  \n",
       "max               4.000000        22.000000         43776.000000  "
      ]
     },
     "execution_count": 302,
     "metadata": {},
     "output_type": "execute_result"
    }
   ],
   "source": [
    "test.describe()"
   ]
  },
  {
   "cell_type": "code",
   "execution_count": 303,
   "metadata": {},
   "outputs": [
    {
     "name": "stdout",
     "output_type": "stream",
     "text": [
      "The train data numerical variables are :\n",
      "['Holding_Policy_Type', 'Reco_Policy_Premium', 'Response', 'Lower_Age', 'ID', 'Region_Code', 'Reco_Policy_Cat', 'Upper_Age']\n",
      "**************************************************\n",
      "The train data categorical variables are :\n",
      "['Holding_Policy_Duration', 'Reco_Insurance_Type', 'City_Code', 'Health Indicator', 'Accomodation_Type', 'Is_Spouse']\n"
     ]
    }
   ],
   "source": [
    "#to identify columns as categorical & numerical in train data set\n",
    "train_numCols = train.select_dtypes(\"number\").columns\n",
    "print(\"The train data numerical variables are :\")\n",
    "train_numCols= print(list(set(train_numCols)))\n",
    "print(\"**************************************************\")\n",
    "train_catCols = train.select_dtypes(\"object\").columns\n",
    "print(\"The train data categorical variables are :\")\n",
    "train_catCols= print(list(set(train_catCols)))\n"
   ]
  },
  {
   "cell_type": "code",
   "execution_count": 304,
   "metadata": {},
   "outputs": [
    {
     "name": "stdout",
     "output_type": "stream",
     "text": [
      "The test data numerical variables are :\n",
      "['Holding_Policy_Type', 'Reco_Policy_Premium', 'Lower_Age', 'ID', 'Region_Code', 'Reco_Policy_Cat', 'Upper_Age']\n",
      "**************************************************\n",
      "The test data categorical variables are :\n",
      "['Holding_Policy_Duration', 'Reco_Insurance_Type', 'City_Code', 'Health Indicator', 'Accomodation_Type', 'Is_Spouse']\n"
     ]
    }
   ],
   "source": [
    "#to identify columns as categorical & numerical in test data set\n",
    "test_numCols = test.select_dtypes(\"number\").columns\n",
    "print(\"The test data numerical variables are :\")\n",
    "test_numCols= print(list(set(test_numCols)))\n",
    "print(\"**************************************************\")\n",
    "test_catCols = test.select_dtypes(\"object\").columns\n",
    "print(\"The test data categorical variables are :\")\n",
    "test_catCols= print(list(set(test_catCols)))\n"
   ]
  },
  {
   "cell_type": "code",
   "execution_count": 305,
   "metadata": {},
   "outputs": [],
   "source": [
    "#missing value treatment for  'Holding_Policy_Type'\n",
    "train['Holding_Policy_Type']= train['Holding_Policy_Type'].replace(' ',np.nan).astype(float)\n",
    "train['Holding_Policy_Type']= train['Holding_Policy_Type'].fillna(train['Holding_Policy_Type'].median())\n",
    "\n"
   ]
  },
  {
   "cell_type": "code",
   "execution_count": 306,
   "metadata": {},
   "outputs": [],
   "source": [
    "test['Holding_Policy_Type']= test['Holding_Policy_Type'].replace(' ',np.nan).astype(float)\n",
    "test['Holding_Policy_Type']= test['Holding_Policy_Type'].fillna(test['Holding_Policy_Type'].median())\n",
    "\n"
   ]
  },
  {
   "cell_type": "code",
   "execution_count": 307,
   "metadata": {},
   "outputs": [
    {
     "data": {
      "text/plain": [
       "(0, 0)"
      ]
     },
     "execution_count": 307,
     "metadata": {},
     "output_type": "execute_result"
    }
   ],
   "source": [
    "train['Holding_Policy_Type'].isnull().sum(),test['Holding_Policy_Type'].isnull().sum()"
   ]
  },
  {
   "cell_type": "code",
   "execution_count": 308,
   "metadata": {},
   "outputs": [],
   "source": [
    "#missing value treatment for categorical variable 'Health Indicator'\n",
    "train['Health Indicator']= train['Health Indicator'].fillna(train['Health Indicator'].mode()[0])\n",
    "test['Health Indicator']= test['Health Indicator'].fillna(test['Health Indicator'].mode()[0])"
   ]
  },
  {
   "cell_type": "code",
   "execution_count": 309,
   "metadata": {},
   "outputs": [
    {
     "data": {
      "text/plain": [
       "(0, 0)"
      ]
     },
     "execution_count": 309,
     "metadata": {},
     "output_type": "execute_result"
    }
   ],
   "source": [
    "train['Health Indicator'].isnull().sum(),test['Health Indicator'].isnull().sum()"
   ]
  },
  {
   "cell_type": "code",
   "execution_count": 310,
   "metadata": {},
   "outputs": [],
   "source": [
    "#missing value treatment for categorical variable 'Holding_Policy_Duration'\n",
    "train['Holding_Policy_Duration']= train['Holding_Policy_Duration'].fillna(train['Holding_Policy_Duration'].mode()[0])\n",
    "test['Holding_Policy_Duration']= test['Holding_Policy_Duration'].fillna(test['Holding_Policy_Duration'].mode()[0])"
   ]
  },
  {
   "cell_type": "code",
   "execution_count": 311,
   "metadata": {},
   "outputs": [
    {
     "data": {
      "text/plain": [
       "(0, 0)"
      ]
     },
     "execution_count": 311,
     "metadata": {},
     "output_type": "execute_result"
    }
   ],
   "source": [
    "train['Holding_Policy_Duration'].isnull().sum(),test['Holding_Policy_Duration'].isnull().sum()"
   ]
  },
  {
   "cell_type": "code",
   "execution_count": 312,
   "metadata": {},
   "outputs": [
    {
     "data": {
      "text/plain": [
       "ID                         0\n",
       "City_Code                  0\n",
       "Region_Code                0\n",
       "Accomodation_Type          0\n",
       "Reco_Insurance_Type        0\n",
       "Upper_Age                  0\n",
       "Lower_Age                  0\n",
       "Is_Spouse                  0\n",
       "Health Indicator           0\n",
       "Holding_Policy_Duration    0\n",
       "Holding_Policy_Type        0\n",
       "Reco_Policy_Cat            0\n",
       "Reco_Policy_Premium        0\n",
       "Response                   0\n",
       "dtype: int64"
      ]
     },
     "execution_count": 312,
     "metadata": {},
     "output_type": "execute_result"
    }
   ],
   "source": [
    "train.isnull().sum()"
   ]
  },
  {
   "cell_type": "code",
   "execution_count": 313,
   "metadata": {},
   "outputs": [
    {
     "data": {
      "text/plain": [
       "ID                         0\n",
       "City_Code                  0\n",
       "Region_Code                0\n",
       "Accomodation_Type          0\n",
       "Reco_Insurance_Type        0\n",
       "Upper_Age                  0\n",
       "Lower_Age                  0\n",
       "Is_Spouse                  0\n",
       "Health Indicator           0\n",
       "Holding_Policy_Duration    0\n",
       "Holding_Policy_Type        0\n",
       "Reco_Policy_Cat            0\n",
       "Reco_Policy_Premium        0\n",
       "dtype: int64"
      ]
     },
     "execution_count": 313,
     "metadata": {},
     "output_type": "execute_result"
    }
   ],
   "source": [
    "test.isnull().sum()"
   ]
  },
  {
   "cell_type": "markdown",
   "metadata": {},
   "source": [
    "Exploratory Data Analysis"
   ]
  },
  {
   "cell_type": "code",
   "execution_count": 314,
   "metadata": {},
   "outputs": [
    {
     "data": {
      "text/plain": [
       "Index(['ID', 'City_Code', 'Region_Code', 'Accomodation_Type',\n",
       "       'Reco_Insurance_Type', 'Upper_Age', 'Lower_Age', 'Is_Spouse',\n",
       "       'Health Indicator', 'Holding_Policy_Duration', 'Holding_Policy_Type',\n",
       "       'Reco_Policy_Cat', 'Reco_Policy_Premium', 'Response'],\n",
       "      dtype='object')"
      ]
     },
     "execution_count": 314,
     "metadata": {},
     "output_type": "execute_result"
    }
   ],
   "source": [
    "train.columns"
   ]
  },
  {
   "cell_type": "code",
   "execution_count": 315,
   "metadata": {},
   "outputs": [
    {
     "data": {
      "text/html": [
       "<div>\n",
       "<style scoped>\n",
       "    .dataframe tbody tr th:only-of-type {\n",
       "        vertical-align: middle;\n",
       "    }\n",
       "\n",
       "    .dataframe tbody tr th {\n",
       "        vertical-align: top;\n",
       "    }\n",
       "\n",
       "    .dataframe thead th {\n",
       "        text-align: right;\n",
       "    }\n",
       "</style>\n",
       "<table border=\"1\" class=\"dataframe\">\n",
       "  <thead>\n",
       "    <tr style=\"text-align: right;\">\n",
       "      <th></th>\n",
       "      <th>ID</th>\n",
       "      <th>City_Code</th>\n",
       "      <th>Region_Code</th>\n",
       "      <th>Accomodation_Type</th>\n",
       "      <th>Reco_Insurance_Type</th>\n",
       "      <th>Upper_Age</th>\n",
       "      <th>Lower_Age</th>\n",
       "      <th>Is_Spouse</th>\n",
       "      <th>Health Indicator</th>\n",
       "      <th>Holding_Policy_Duration</th>\n",
       "      <th>Holding_Policy_Type</th>\n",
       "      <th>Reco_Policy_Cat</th>\n",
       "      <th>Reco_Policy_Premium</th>\n",
       "      <th>Response</th>\n",
       "    </tr>\n",
       "  </thead>\n",
       "  <tbody>\n",
       "    <tr>\n",
       "      <th>50877</th>\n",
       "      <td>50878</td>\n",
       "      <td>C4</td>\n",
       "      <td>845</td>\n",
       "      <td>Rented</td>\n",
       "      <td>Individual</td>\n",
       "      <td>22</td>\n",
       "      <td>22</td>\n",
       "      <td>No</td>\n",
       "      <td>X3</td>\n",
       "      <td>1.0</td>\n",
       "      <td>3.0</td>\n",
       "      <td>18</td>\n",
       "      <td>7704.0</td>\n",
       "      <td>0</td>\n",
       "    </tr>\n",
       "    <tr>\n",
       "      <th>50878</th>\n",
       "      <td>50879</td>\n",
       "      <td>C5</td>\n",
       "      <td>4188</td>\n",
       "      <td>Rented</td>\n",
       "      <td>Individual</td>\n",
       "      <td>27</td>\n",
       "      <td>27</td>\n",
       "      <td>No</td>\n",
       "      <td>X3</td>\n",
       "      <td>7.0</td>\n",
       "      <td>3.0</td>\n",
       "      <td>4</td>\n",
       "      <td>5408.0</td>\n",
       "      <td>0</td>\n",
       "    </tr>\n",
       "    <tr>\n",
       "      <th>50879</th>\n",
       "      <td>50880</td>\n",
       "      <td>C1</td>\n",
       "      <td>442</td>\n",
       "      <td>Rented</td>\n",
       "      <td>Individual</td>\n",
       "      <td>63</td>\n",
       "      <td>63</td>\n",
       "      <td>No</td>\n",
       "      <td>X2</td>\n",
       "      <td>14+</td>\n",
       "      <td>1.0</td>\n",
       "      <td>12</td>\n",
       "      <td>11374.0</td>\n",
       "      <td>0</td>\n",
       "    </tr>\n",
       "    <tr>\n",
       "      <th>50880</th>\n",
       "      <td>50881</td>\n",
       "      <td>C1</td>\n",
       "      <td>4</td>\n",
       "      <td>Owned</td>\n",
       "      <td>Joint</td>\n",
       "      <td>71</td>\n",
       "      <td>49</td>\n",
       "      <td>No</td>\n",
       "      <td>X2</td>\n",
       "      <td>2.0</td>\n",
       "      <td>2.0</td>\n",
       "      <td>16</td>\n",
       "      <td>28179.2</td>\n",
       "      <td>1</td>\n",
       "    </tr>\n",
       "    <tr>\n",
       "      <th>50881</th>\n",
       "      <td>50882</td>\n",
       "      <td>C3</td>\n",
       "      <td>3866</td>\n",
       "      <td>Rented</td>\n",
       "      <td>Individual</td>\n",
       "      <td>24</td>\n",
       "      <td>24</td>\n",
       "      <td>No</td>\n",
       "      <td>X3</td>\n",
       "      <td>2.0</td>\n",
       "      <td>3.0</td>\n",
       "      <td>18</td>\n",
       "      <td>11424.0</td>\n",
       "      <td>0</td>\n",
       "    </tr>\n",
       "  </tbody>\n",
       "</table>\n",
       "</div>"
      ],
      "text/plain": [
       "          ID City_Code  Region_Code Accomodation_Type Reco_Insurance_Type  \\\n",
       "50877  50878        C4          845            Rented          Individual   \n",
       "50878  50879        C5         4188            Rented          Individual   \n",
       "50879  50880        C1          442            Rented          Individual   \n",
       "50880  50881        C1            4             Owned               Joint   \n",
       "50881  50882        C3         3866            Rented          Individual   \n",
       "\n",
       "       Upper_Age  Lower_Age Is_Spouse Health Indicator  \\\n",
       "50877         22         22        No               X3   \n",
       "50878         27         27        No               X3   \n",
       "50879         63         63        No               X2   \n",
       "50880         71         49        No               X2   \n",
       "50881         24         24        No               X3   \n",
       "\n",
       "      Holding_Policy_Duration  Holding_Policy_Type  Reco_Policy_Cat  \\\n",
       "50877                     1.0                  3.0               18   \n",
       "50878                     7.0                  3.0                4   \n",
       "50879                     14+                  1.0               12   \n",
       "50880                     2.0                  2.0               16   \n",
       "50881                     2.0                  3.0               18   \n",
       "\n",
       "       Reco_Policy_Premium  Response  \n",
       "50877               7704.0         0  \n",
       "50878               5408.0         0  \n",
       "50879              11374.0         0  \n",
       "50880              28179.2         1  \n",
       "50881              11424.0         0  "
      ]
     },
     "execution_count": 315,
     "metadata": {},
     "output_type": "execute_result"
    }
   ],
   "source": [
    "train.tail(5)"
   ]
  },
  {
   "cell_type": "code",
   "execution_count": 316,
   "metadata": {},
   "outputs": [],
   "source": [
    "#plt.figure(figsize=(10,15))\n",
    "#sns.countplot('Reco_Policy_Premium',data=train,palette='ocean')"
   ]
  },
  {
   "cell_type": "markdown",
   "metadata": {},
   "source": [
    "Label encoding performed for the required columns contating categorical features"
   ]
  },
  {
   "cell_type": "code",
   "execution_count": 317,
   "metadata": {},
   "outputs": [],
   "source": [
    "# Labelencoding\n",
    "from sklearn.preprocessing import LabelEncoder\n",
    "#from sklearn.preprocessing import OneHotEncoder\n",
    "\n",
    "# Labelencoding\n",
    "le = LabelEncoder()\n",
    "var_mod = train.select_dtypes(include='object').columns\n",
    "for i in var_mod:\n",
    "    train[i] = le.fit_transform(train[i])\n",
    "    \n",
    "for i in var_mod:\n",
    "    test[i] = le.fit_transform(test[i])"
   ]
  },
  {
   "cell_type": "code",
   "execution_count": 331,
   "metadata": {},
   "outputs": [
    {
     "data": {
      "text/plain": [
       "Index(['ID', 'City_Code', 'Region_Code', 'Accomodation_Type',\n",
       "       'Reco_Insurance_Type', 'Upper_Age', 'Lower_Age', 'Is_Spouse',\n",
       "       'Health Indicator', 'Holding_Policy_Duration', 'Holding_Policy_Type',\n",
       "       'Reco_Policy_Cat', 'Reco_Policy_Premium', 'Response'],\n",
       "      dtype='object')"
      ]
     },
     "execution_count": 331,
     "metadata": {},
     "output_type": "execute_result"
    }
   ],
   "source": [
    "train.columns"
   ]
  },
  {
   "cell_type": "code",
   "execution_count": 332,
   "metadata": {},
   "outputs": [
    {
     "data": {
      "text/plain": [
       "ID                           int64\n",
       "City_Code                    int64\n",
       "Region_Code                  int64\n",
       "Accomodation_Type            int64\n",
       "Reco_Insurance_Type          int64\n",
       "Upper_Age                    int64\n",
       "Lower_Age                    int64\n",
       "Is_Spouse                    int64\n",
       "Health Indicator             int64\n",
       "Holding_Policy_Duration      int64\n",
       "Holding_Policy_Type        float64\n",
       "Reco_Policy_Cat              int64\n",
       "Reco_Policy_Premium        float64\n",
       "Response                     int64\n",
       "dtype: object"
      ]
     },
     "execution_count": 332,
     "metadata": {},
     "output_type": "execute_result"
    }
   ],
   "source": [
    "train.dtypes"
   ]
  },
  {
   "cell_type": "code",
   "execution_count": 334,
   "metadata": {},
   "outputs": [],
   "source": [
    "# Seperate Features and Target\n",
    "x= train.drop(columns = ['Response'], axis=1)\n",
    "y= train['Response']\n"
   ]
  },
  {
   "cell_type": "code",
   "execution_count": 335,
   "metadata": {},
   "outputs": [
    {
     "data": {
      "text/html": [
       "<div>\n",
       "<style scoped>\n",
       "    .dataframe tbody tr th:only-of-type {\n",
       "        vertical-align: middle;\n",
       "    }\n",
       "\n",
       "    .dataframe tbody tr th {\n",
       "        vertical-align: top;\n",
       "    }\n",
       "\n",
       "    .dataframe thead th {\n",
       "        text-align: right;\n",
       "    }\n",
       "</style>\n",
       "<table border=\"1\" class=\"dataframe\">\n",
       "  <thead>\n",
       "    <tr style=\"text-align: right;\">\n",
       "      <th></th>\n",
       "      <th>ID</th>\n",
       "      <th>City_Code</th>\n",
       "      <th>Region_Code</th>\n",
       "      <th>Accomodation_Type</th>\n",
       "      <th>Reco_Insurance_Type</th>\n",
       "      <th>Upper_Age</th>\n",
       "      <th>Lower_Age</th>\n",
       "      <th>Is_Spouse</th>\n",
       "      <th>Health Indicator</th>\n",
       "      <th>Holding_Policy_Duration</th>\n",
       "      <th>Holding_Policy_Type</th>\n",
       "      <th>Reco_Policy_Cat</th>\n",
       "      <th>Reco_Policy_Premium</th>\n",
       "    </tr>\n",
       "  </thead>\n",
       "  <tbody>\n",
       "    <tr>\n",
       "      <th>0</th>\n",
       "      <td>1</td>\n",
       "      <td>22</td>\n",
       "      <td>3213</td>\n",
       "      <td>1</td>\n",
       "      <td>0</td>\n",
       "      <td>36</td>\n",
       "      <td>36</td>\n",
       "      <td>0</td>\n",
       "      <td>0</td>\n",
       "      <td>5</td>\n",
       "      <td>3.0</td>\n",
       "      <td>22</td>\n",
       "      <td>11628.0</td>\n",
       "    </tr>\n",
       "    <tr>\n",
       "      <th>1</th>\n",
       "      <td>2</td>\n",
       "      <td>31</td>\n",
       "      <td>1117</td>\n",
       "      <td>0</td>\n",
       "      <td>1</td>\n",
       "      <td>75</td>\n",
       "      <td>22</td>\n",
       "      <td>0</td>\n",
       "      <td>1</td>\n",
       "      <td>0</td>\n",
       "      <td>3.0</td>\n",
       "      <td>22</td>\n",
       "      <td>30510.0</td>\n",
       "    </tr>\n",
       "    <tr>\n",
       "      <th>2</th>\n",
       "      <td>3</td>\n",
       "      <td>31</td>\n",
       "      <td>3732</td>\n",
       "      <td>0</td>\n",
       "      <td>0</td>\n",
       "      <td>32</td>\n",
       "      <td>32</td>\n",
       "      <td>0</td>\n",
       "      <td>0</td>\n",
       "      <td>0</td>\n",
       "      <td>1.0</td>\n",
       "      <td>19</td>\n",
       "      <td>7450.0</td>\n",
       "    </tr>\n",
       "    <tr>\n",
       "      <th>3</th>\n",
       "      <td>4</td>\n",
       "      <td>16</td>\n",
       "      <td>4378</td>\n",
       "      <td>0</td>\n",
       "      <td>1</td>\n",
       "      <td>52</td>\n",
       "      <td>48</td>\n",
       "      <td>0</td>\n",
       "      <td>0</td>\n",
       "      <td>5</td>\n",
       "      <td>3.0</td>\n",
       "      <td>19</td>\n",
       "      <td>17780.0</td>\n",
       "    </tr>\n",
       "    <tr>\n",
       "      <th>4</th>\n",
       "      <td>5</td>\n",
       "      <td>34</td>\n",
       "      <td>2190</td>\n",
       "      <td>1</td>\n",
       "      <td>0</td>\n",
       "      <td>44</td>\n",
       "      <td>44</td>\n",
       "      <td>0</td>\n",
       "      <td>1</td>\n",
       "      <td>8</td>\n",
       "      <td>1.0</td>\n",
       "      <td>16</td>\n",
       "      <td>10404.0</td>\n",
       "    </tr>\n",
       "  </tbody>\n",
       "</table>\n",
       "</div>"
      ],
      "text/plain": [
       "   ID  City_Code  Region_Code  Accomodation_Type  Reco_Insurance_Type  \\\n",
       "0   1         22         3213                  1                    0   \n",
       "1   2         31         1117                  0                    1   \n",
       "2   3         31         3732                  0                    0   \n",
       "3   4         16         4378                  0                    1   \n",
       "4   5         34         2190                  1                    0   \n",
       "\n",
       "   Upper_Age  Lower_Age  Is_Spouse  Health Indicator  Holding_Policy_Duration  \\\n",
       "0         36         36          0                 0                        5   \n",
       "1         75         22          0                 1                        0   \n",
       "2         32         32          0                 0                        0   \n",
       "3         52         48          0                 0                        5   \n",
       "4         44         44          0                 1                        8   \n",
       "\n",
       "   Holding_Policy_Type  Reco_Policy_Cat  Reco_Policy_Premium  \n",
       "0                  3.0               22              11628.0  \n",
       "1                  3.0               22              30510.0  \n",
       "2                  1.0               19               7450.0  \n",
       "3                  3.0               19              17780.0  \n",
       "4                  1.0               16              10404.0  "
      ]
     },
     "execution_count": 335,
     "metadata": {},
     "output_type": "execute_result"
    }
   ],
   "source": [
    "x.head()"
   ]
  },
  {
   "cell_type": "code",
   "execution_count": 336,
   "metadata": {},
   "outputs": [
    {
     "data": {
      "text/plain": [
       "0    0\n",
       "1    0\n",
       "2    1\n",
       "3    0\n",
       "4    0\n",
       "Name: Response, dtype: int64"
      ]
     },
     "execution_count": 336,
     "metadata": {},
     "output_type": "execute_result"
    }
   ],
   "source": [
    "y.head()"
   ]
  },
  {
   "cell_type": "code",
   "execution_count": 337,
   "metadata": {},
   "outputs": [],
   "source": [
    "# 20% data as validation set\n",
    "x_train,x_valid,y_train,y_valid = train_test_split(x,y,test_size=0.2,random_state=22)"
   ]
  },
  {
   "cell_type": "code",
   "execution_count": 338,
   "metadata": {},
   "outputs": [],
   "source": [
    "#ML models\n",
    "from sklearn.linear_model import LogisticRegression\n",
    "from sklearn.neighbors import KNeighborsClassifier\n",
    "from sklearn.svm import SVC\n",
    "from sklearn.ensemble import RandomForestClassifier\n",
    "from sklearn.naive_bayes import GaussianNB\n",
    "from sklearn import model_selection\n",
    "from sklearn.utils import class_weight\n",
    "from sklearn.metrics import classification_report\n",
    "from sklearn.metrics import accuracy_score, confusion_matrix"
   ]
  },
  {
   "cell_type": "code",
   "execution_count": 339,
   "metadata": {},
   "outputs": [],
   "source": [
    "# logistic regression\n",
    "model1 = LogisticRegression()\n",
    "# knn\n",
    "model2 = KNeighborsClassifier(n_neighbors=4)\n",
    "#svm\n",
    "model3 = SVC(gamma=100,kernel='linear',C=10)\n",
    "#RF\n",
    "model4 = RandomForestClassifier(random_state = 1,max_depth = 15,n_estimators = 500,min_samples_split = 2,min_samples_leaf = 1)\n",
    "#NAiveBayes\n",
    "model5 = GaussianNB()"
   ]
  },
  {
   "cell_type": "code",
   "execution_count": 340,
   "metadata": {},
   "outputs": [
    {
     "data": {
      "text/plain": [
       "LogisticRegression(C=1.0, class_weight=None, dual=False, fit_intercept=True,\n",
       "          intercept_scaling=1, max_iter=100, multi_class='ovr', n_jobs=1,\n",
       "          penalty='l2', random_state=None, solver='liblinear', tol=0.0001,\n",
       "          verbose=0, warm_start=False)"
      ]
     },
     "execution_count": 340,
     "metadata": {},
     "output_type": "execute_result"
    }
   ],
   "source": [
    "model1.fit(x_train, y_train)"
   ]
  },
  {
   "cell_type": "code",
   "execution_count": 341,
   "metadata": {},
   "outputs": [
    {
     "data": {
      "text/plain": [
       "KNeighborsClassifier(algorithm='auto', leaf_size=30, metric='minkowski',\n",
       "           metric_params=None, n_jobs=1, n_neighbors=4, p=2,\n",
       "           weights='uniform')"
      ]
     },
     "execution_count": 341,
     "metadata": {},
     "output_type": "execute_result"
    }
   ],
   "source": [
    "model2.fit(x_train, y_train)\n"
   ]
  },
  {
   "cell_type": "code",
   "execution_count": 342,
   "metadata": {},
   "outputs": [],
   "source": [
    "#model3.fit(x_train, y_train)\n"
   ]
  },
  {
   "cell_type": "code",
   "execution_count": 353,
   "metadata": {},
   "outputs": [
    {
     "data": {
      "text/plain": [
       "RandomForestClassifier(bootstrap=True, class_weight=None, criterion='gini',\n",
       "            max_depth=15, max_features='auto', max_leaf_nodes=None,\n",
       "            min_impurity_decrease=0.0, min_impurity_split=None,\n",
       "            min_samples_leaf=1, min_samples_split=2,\n",
       "            min_weight_fraction_leaf=0.0, n_estimators=500, n_jobs=1,\n",
       "            oob_score=False, random_state=1, verbose=0, warm_start=False)"
      ]
     },
     "execution_count": 353,
     "metadata": {},
     "output_type": "execute_result"
    }
   ],
   "source": [
    "model4.fit(x_train, y_train)"
   ]
  },
  {
   "cell_type": "code",
   "execution_count": 354,
   "metadata": {},
   "outputs": [
    {
     "data": {
      "text/plain": [
       "GaussianNB(priors=None)"
      ]
     },
     "execution_count": 354,
     "metadata": {},
     "output_type": "execute_result"
    }
   ],
   "source": [
    "model5.fit(x_train, y_train)"
   ]
  },
  {
   "cell_type": "code",
   "execution_count": 355,
   "metadata": {},
   "outputs": [],
   "source": [
    "# predict probabilities\n",
    "pred_prob1 = model1.predict_proba(x_valid)\n",
    "pred_prob2 = model2.predict_proba(x_valid)\n",
    "pred_prob4 = model4.predict_proba(x_valid)\n",
    "pred_prob5 = model5.predict_proba(x_valid)\n"
   ]
  },
  {
   "cell_type": "code",
   "execution_count": 356,
   "metadata": {},
   "outputs": [],
   "source": [
    "\n",
    "from sklearn.metrics import roc_curve\n",
    "\n",
    "# roc curve for models\n",
    "fpr1, tpr1, thresh1 = roc_curve(y_valid, pred_prob1[:,1], pos_label=1)\n",
    "fpr2, tpr2, thresh2 = roc_curve(y_valid, pred_prob2[:,1], pos_label=1)\n",
    "fpr4, tpr4, thresh4 = roc_curve(y_valid, pred_prob4[:,1], pos_label=1)\n",
    "fpr5, tpr5, thresh5 = roc_curve(y_valid, pred_prob5[:,1], pos_label=1)\n",
    "\n",
    "\n",
    "\n",
    "# roc curve for tpr = fpr \n",
    "random_probs = [0 for i in range(len(y_valid))]\n",
    "p_fpr, p_tpr, _ = roc_curve(y_valid, random_probs, pos_label=1)"
   ]
  },
  {
   "cell_type": "code",
   "execution_count": 357,
   "metadata": {},
   "outputs": [
    {
     "name": "stdout",
     "output_type": "stream",
     "text": [
      "0.5048487997847262 0.5000785293999241 0.6441449644776961 0.5499437448750627\n"
     ]
    }
   ],
   "source": [
    "from sklearn.metrics import roc_auc_score\n",
    "\n",
    "# auc scores\n",
    "auc_score1 = roc_auc_score(y_valid, pred_prob1[:,1])\n",
    "auc_score2 = roc_auc_score(y_valid, pred_prob2[:,1])\n",
    "auc_score4 = roc_auc_score(y_valid, pred_prob4[:,1])\n",
    "auc_score5 = roc_auc_score(y_valid, pred_prob5[:,1])\n",
    "\n",
    "\n",
    "print(auc_score1, auc_score2,auc_score4,auc_score5)"
   ]
  },
  {
   "cell_type": "code",
   "execution_count": 358,
   "metadata": {},
   "outputs": [
    {
     "data": {
      "image/png": "[encoded data removed]",
      "text/plain": [
       "<Figure size 576x396 with 1 Axes>"
      ]
     },
     "metadata": {},
     "output_type": "display_data"
    }
   ],
   "source": [
    "# matplotlib\n",
    "import matplotlib.pyplot as plt\n",
    "plt.style.use('seaborn')\n",
    "\n",
    "# plot roc curves\n",
    "plt.plot(fpr1, tpr1, linestyle='--',color='orange', label='Logistic Regression')\n",
    "plt.plot(fpr2, tpr2, linestyle='--',color='green', label='KNN')\n",
    "plt.plot(fpr4, tpr4, linestyle='--',color='black', label='Random Forest')\n",
    "plt.plot(fpr5, tpr5, linestyle='--',color='red', label='Naive Bayes')\n",
    "\n",
    "\n",
    "plt.plot(p_fpr, p_tpr, linestyle='--', color='blue')\n",
    "# title\n",
    "plt.title('ROC curve')\n",
    "# x label\n",
    "plt.xlabel('False Positive Rate')\n",
    "# y label\n",
    "plt.ylabel('True Positive rate')\n",
    "\n",
    "plt.legend(loc='best')\n",
    "plt.savefig('ROC',dpi=300)\n",
    "plt.show();"
   ]
  },
  {
   "cell_type": "code",
   "execution_count": 359,
   "metadata": {},
   "outputs": [],
   "source": [
    "submission = pd.read_csv('sample_submission_QrCyCoT.csv')\n",
    "submission = submission.drop(columns = ['Response'], axis=1)\n",
    "final_predictions = model1.predict(test)\n",
    "submission['Response'] = final_predictions\n",
    "#only positive predictions for the target variable\n",
    "submission['Response'] = submission['Response'].apply(lambda x: 0 if x<0 else x)\n",
    "submission.to_csv('my_submission.csv', index=False)"
   ]
  },
  {
   "cell_type": "code",
   "execution_count": null,
   "metadata": {},
   "outputs": [],
   "source": []
  }
 ],
 "metadata": {
  "kernelspec": {
   "display_name": "Python 3",
   "language": "python",
   "name": "python3"
  },
  "language_info": {
   "codemirror_mode": {
    "name": "ipython",
    "version": 3
   },
   "file_extension": ".py",
   "mimetype": "text/x-python",
   "name": "python",
   "nbconvert_exporter": "python",
   "pygments_lexer": "ipython3",
   "version": "3.6.5"
  }
 },
 "nbformat": 4,
 "nbformat_minor": 2
}
